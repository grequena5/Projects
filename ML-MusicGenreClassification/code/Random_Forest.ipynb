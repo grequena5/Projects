{
 "cells": [
  {
   "cell_type": "code",
   "execution_count": 1,
   "metadata": {},
   "outputs": [],
   "source": [
    "import pandas as pd\n",
    "from sklearn.model_selection import train_test_split\n",
    "from sklearn.preprocessing import StandardScaler\n",
    "from sklearn.ensemble import RandomForestClassifier\n",
    "from sklearn.metrics import confusion_matrix\n",
    "import seaborn as sns\n",
    "import matplotlib.pyplot as plt"
   ]
  },
  {
   "cell_type": "code",
   "execution_count": 2,
   "metadata": {},
   "outputs": [
    {
     "name": "stdout",
     "output_type": "stream",
     "text": [
      "Requirement already satisfied: matplotlib==3.1.0 in /Applications/anaconda3/lib/python3.7/site-packages (3.1.0)\n",
      "Requirement already satisfied: pyparsing!=2.0.4,!=2.1.2,!=2.1.6,>=2.0.1 in /Applications/anaconda3/lib/python3.7/site-packages (from matplotlib==3.1.0) (2.4.2)\n",
      "Requirement already satisfied: cycler>=0.10 in /Applications/anaconda3/lib/python3.7/site-packages (from matplotlib==3.1.0) (0.10.0)\n",
      "Requirement already satisfied: kiwisolver>=1.0.1 in /Applications/anaconda3/lib/python3.7/site-packages (from matplotlib==3.1.0) (1.1.0)\n",
      "Requirement already satisfied: numpy>=1.11 in /Applications/anaconda3/lib/python3.7/site-packages (from matplotlib==3.1.0) (1.17.2)\n",
      "Requirement already satisfied: python-dateutil>=2.1 in /Applications/anaconda3/lib/python3.7/site-packages (from matplotlib==3.1.0) (2.8.0)\n",
      "Requirement already satisfied: six in /Applications/anaconda3/lib/python3.7/site-packages (from cycler>=0.10->matplotlib==3.1.0) (1.12.0)\n",
      "Requirement already satisfied: setuptools in /Applications/anaconda3/lib/python3.7/site-packages (from kiwisolver>=1.0.1->matplotlib==3.1.0) (41.4.0)\n",
      "Note: you may need to restart the kernel to use updated packages.\n"
     ]
    }
   ],
   "source": [
    "pip install matplotlib==3.1.0\n"
   ]
  },
  {
   "cell_type": "code",
   "execution_count": 3,
   "metadata": {},
   "outputs": [],
   "source": [
    "sc = StandardScaler()"
   ]
  },
  {
   "cell_type": "markdown",
   "metadata": {},
   "source": [
    "<h1>10 genres<h1/>"
   ]
  },
  {
   "cell_type": "code",
   "execution_count": 4,
   "metadata": {},
   "outputs": [],
   "source": [
    "all_genres = 'blues classical country disco hiphop jazz metal pop reggae rock'.split()"
   ]
  },
  {
   "cell_type": "code",
   "execution_count": 5,
   "metadata": {},
   "outputs": [],
   "source": [
    "training_data_df = pd.read_csv('../csv_files/Music_data_set_binary.csv').drop(['Unnamed: 0',], axis=1)\n",
    "\n",
    "training_data_df[['mean_mfccs', 'mean_chroma_stft', 'tempo', 'pulse', 'contrast', 'zero_crossing']] = sc.fit_transform(training_data_df[['mean_mfccs', 'mean_chroma_stft', 'tempo', 'pulse', 'contrast', 'zero_crossing']])"
   ]
  },
  {
   "cell_type": "code",
   "execution_count": 6,
   "metadata": {},
   "outputs": [
    {
     "data": {
      "text/html": [
       "<div>\n",
       "<style scoped>\n",
       "    .dataframe tbody tr th:only-of-type {\n",
       "        vertical-align: middle;\n",
       "    }\n",
       "\n",
       "    .dataframe tbody tr th {\n",
       "        vertical-align: top;\n",
       "    }\n",
       "\n",
       "    .dataframe thead th {\n",
       "        text-align: right;\n",
       "    }\n",
       "</style>\n",
       "<table border=\"1\" class=\"dataframe\">\n",
       "  <thead>\n",
       "    <tr style=\"text-align: right;\">\n",
       "      <th></th>\n",
       "      <th>mean_mfccs</th>\n",
       "      <th>mean_chroma_stft</th>\n",
       "      <th>tempo</th>\n",
       "      <th>pulse</th>\n",
       "      <th>flatness</th>\n",
       "      <th>contrast</th>\n",
       "      <th>zero_crossing</th>\n",
       "      <th>blues</th>\n",
       "      <th>classical</th>\n",
       "      <th>country</th>\n",
       "      <th>disco</th>\n",
       "      <th>hiphop</th>\n",
       "      <th>jazz</th>\n",
       "      <th>metal</th>\n",
       "      <th>pop</th>\n",
       "      <th>reggae</th>\n",
       "      <th>rock</th>\n",
       "    </tr>\n",
       "  </thead>\n",
       "  <tbody>\n",
       "    <tr>\n",
       "      <td>0</td>\n",
       "      <td>0.498907</td>\n",
       "      <td>-0.350137</td>\n",
       "      <td>0.093269</td>\n",
       "      <td>1.249743</td>\n",
       "      <td>0.004498</td>\n",
       "      <td>0.001767</td>\n",
       "      <td>-0.493125</td>\n",
       "      <td>1</td>\n",
       "      <td>0</td>\n",
       "      <td>0</td>\n",
       "      <td>0</td>\n",
       "      <td>0</td>\n",
       "      <td>0</td>\n",
       "      <td>0</td>\n",
       "      <td>0</td>\n",
       "      <td>0</td>\n",
       "      <td>0</td>\n",
       "    </tr>\n",
       "    <tr>\n",
       "      <td>1</td>\n",
       "      <td>0.110828</td>\n",
       "      <td>-0.462482</td>\n",
       "      <td>-0.642775</td>\n",
       "      <td>1.103971</td>\n",
       "      <td>0.002298</td>\n",
       "      <td>0.070351</td>\n",
       "      <td>-1.138619</td>\n",
       "      <td>1</td>\n",
       "      <td>0</td>\n",
       "      <td>0</td>\n",
       "      <td>0</td>\n",
       "      <td>0</td>\n",
       "      <td>0</td>\n",
       "      <td>0</td>\n",
       "      <td>0</td>\n",
       "      <td>0</td>\n",
       "      <td>0</td>\n",
       "    </tr>\n",
       "    <tr>\n",
       "      <td>2</td>\n",
       "      <td>0.322963</td>\n",
       "      <td>-0.184224</td>\n",
       "      <td>1.933379</td>\n",
       "      <td>0.994767</td>\n",
       "      <td>0.002631</td>\n",
       "      <td>0.768619</td>\n",
       "      <td>-0.654318</td>\n",
       "      <td>1</td>\n",
       "      <td>0</td>\n",
       "      <td>0</td>\n",
       "      <td>0</td>\n",
       "      <td>0</td>\n",
       "      <td>0</td>\n",
       "      <td>0</td>\n",
       "      <td>0</td>\n",
       "      <td>0</td>\n",
       "      <td>0</td>\n",
       "    </tr>\n",
       "    <tr>\n",
       "      <td>3</td>\n",
       "      <td>0.135541</td>\n",
       "      <td>0.319639</td>\n",
       "      <td>2.448609</td>\n",
       "      <td>0.877943</td>\n",
       "      <td>0.000954</td>\n",
       "      <td>0.414641</td>\n",
       "      <td>-1.682014</td>\n",
       "      <td>1</td>\n",
       "      <td>0</td>\n",
       "      <td>0</td>\n",
       "      <td>0</td>\n",
       "      <td>0</td>\n",
       "      <td>0</td>\n",
       "      <td>0</td>\n",
       "      <td>0</td>\n",
       "      <td>0</td>\n",
       "      <td>0</td>\n",
       "    </tr>\n",
       "    <tr>\n",
       "      <td>4</td>\n",
       "      <td>-1.524946</td>\n",
       "      <td>-0.859077</td>\n",
       "      <td>0.713096</td>\n",
       "      <td>-0.323180</td>\n",
       "      <td>0.003238</td>\n",
       "      <td>0.433031</td>\n",
       "      <td>-0.053199</td>\n",
       "      <td>1</td>\n",
       "      <td>0</td>\n",
       "      <td>0</td>\n",
       "      <td>0</td>\n",
       "      <td>0</td>\n",
       "      <td>0</td>\n",
       "      <td>0</td>\n",
       "      <td>0</td>\n",
       "      <td>0</td>\n",
       "      <td>0</td>\n",
       "    </tr>\n",
       "    <tr>\n",
       "      <td>...</td>\n",
       "      <td>...</td>\n",
       "      <td>...</td>\n",
       "      <td>...</td>\n",
       "      <td>...</td>\n",
       "      <td>...</td>\n",
       "      <td>...</td>\n",
       "      <td>...</td>\n",
       "      <td>...</td>\n",
       "      <td>...</td>\n",
       "      <td>...</td>\n",
       "      <td>...</td>\n",
       "      <td>...</td>\n",
       "      <td>...</td>\n",
       "      <td>...</td>\n",
       "      <td>...</td>\n",
       "      <td>...</td>\n",
       "      <td>...</td>\n",
       "    </tr>\n",
       "    <tr>\n",
       "      <td>995</td>\n",
       "      <td>-0.214062</td>\n",
       "      <td>-0.325957</td>\n",
       "      <td>-0.848867</td>\n",
       "      <td>0.200195</td>\n",
       "      <td>0.006552</td>\n",
       "      <td>1.129413</td>\n",
       "      <td>-0.345460</td>\n",
       "      <td>0</td>\n",
       "      <td>0</td>\n",
       "      <td>0</td>\n",
       "      <td>0</td>\n",
       "      <td>0</td>\n",
       "      <td>0</td>\n",
       "      <td>0</td>\n",
       "      <td>0</td>\n",
       "      <td>0</td>\n",
       "      <td>1</td>\n",
       "    </tr>\n",
       "    <tr>\n",
       "      <td>996</td>\n",
       "      <td>-0.221173</td>\n",
       "      <td>0.244975</td>\n",
       "      <td>-0.174383</td>\n",
       "      <td>0.122212</td>\n",
       "      <td>0.006468</td>\n",
       "      <td>0.985978</td>\n",
       "      <td>-0.142959</td>\n",
       "      <td>0</td>\n",
       "      <td>0</td>\n",
       "      <td>0</td>\n",
       "      <td>0</td>\n",
       "      <td>0</td>\n",
       "      <td>0</td>\n",
       "      <td>0</td>\n",
       "      <td>0</td>\n",
       "      <td>0</td>\n",
       "      <td>1</td>\n",
       "    </tr>\n",
       "    <tr>\n",
       "      <td>997</td>\n",
       "      <td>-0.396974</td>\n",
       "      <td>0.654637</td>\n",
       "      <td>0.387687</td>\n",
       "      <td>0.360191</td>\n",
       "      <td>0.007545</td>\n",
       "      <td>0.822079</td>\n",
       "      <td>0.434638</td>\n",
       "      <td>0</td>\n",
       "      <td>0</td>\n",
       "      <td>0</td>\n",
       "      <td>0</td>\n",
       "      <td>0</td>\n",
       "      <td>0</td>\n",
       "      <td>0</td>\n",
       "      <td>0</td>\n",
       "      <td>0</td>\n",
       "      <td>1</td>\n",
       "    </tr>\n",
       "    <tr>\n",
       "      <td>998</td>\n",
       "      <td>-0.314061</td>\n",
       "      <td>-0.198339</td>\n",
       "      <td>-0.418761</td>\n",
       "      <td>0.908199</td>\n",
       "      <td>0.001715</td>\n",
       "      <td>0.906024</td>\n",
       "      <td>-1.313485</td>\n",
       "      <td>0</td>\n",
       "      <td>0</td>\n",
       "      <td>0</td>\n",
       "      <td>0</td>\n",
       "      <td>0</td>\n",
       "      <td>0</td>\n",
       "      <td>0</td>\n",
       "      <td>0</td>\n",
       "      <td>0</td>\n",
       "      <td>1</td>\n",
       "    </tr>\n",
       "    <tr>\n",
       "      <td>999</td>\n",
       "      <td>-0.500819</td>\n",
       "      <td>-0.248339</td>\n",
       "      <td>0.093269</td>\n",
       "      <td>-0.109631</td>\n",
       "      <td>0.002591</td>\n",
       "      <td>1.724017</td>\n",
       "      <td>-0.653921</td>\n",
       "      <td>0</td>\n",
       "      <td>0</td>\n",
       "      <td>0</td>\n",
       "      <td>0</td>\n",
       "      <td>0</td>\n",
       "      <td>0</td>\n",
       "      <td>0</td>\n",
       "      <td>0</td>\n",
       "      <td>0</td>\n",
       "      <td>1</td>\n",
       "    </tr>\n",
       "  </tbody>\n",
       "</table>\n",
       "<p>1000 rows × 17 columns</p>\n",
       "</div>"
      ],
      "text/plain": [
       "     mean_mfccs  mean_chroma_stft     tempo     pulse  flatness  contrast  \\\n",
       "0      0.498907         -0.350137  0.093269  1.249743  0.004498  0.001767   \n",
       "1      0.110828         -0.462482 -0.642775  1.103971  0.002298  0.070351   \n",
       "2      0.322963         -0.184224  1.933379  0.994767  0.002631  0.768619   \n",
       "3      0.135541          0.319639  2.448609  0.877943  0.000954  0.414641   \n",
       "4     -1.524946         -0.859077  0.713096 -0.323180  0.003238  0.433031   \n",
       "..          ...               ...       ...       ...       ...       ...   \n",
       "995   -0.214062         -0.325957 -0.848867  0.200195  0.006552  1.129413   \n",
       "996   -0.221173          0.244975 -0.174383  0.122212  0.006468  0.985978   \n",
       "997   -0.396974          0.654637  0.387687  0.360191  0.007545  0.822079   \n",
       "998   -0.314061         -0.198339 -0.418761  0.908199  0.001715  0.906024   \n",
       "999   -0.500819         -0.248339  0.093269 -0.109631  0.002591  1.724017   \n",
       "\n",
       "     zero_crossing  blues  classical  country  disco  hiphop  jazz  metal  \\\n",
       "0        -0.493125      1          0        0      0       0     0      0   \n",
       "1        -1.138619      1          0        0      0       0     0      0   \n",
       "2        -0.654318      1          0        0      0       0     0      0   \n",
       "3        -1.682014      1          0        0      0       0     0      0   \n",
       "4        -0.053199      1          0        0      0       0     0      0   \n",
       "..             ...    ...        ...      ...    ...     ...   ...    ...   \n",
       "995      -0.345460      0          0        0      0       0     0      0   \n",
       "996      -0.142959      0          0        0      0       0     0      0   \n",
       "997       0.434638      0          0        0      0       0     0      0   \n",
       "998      -1.313485      0          0        0      0       0     0      0   \n",
       "999      -0.653921      0          0        0      0       0     0      0   \n",
       "\n",
       "     pop  reggae  rock  \n",
       "0      0       0     0  \n",
       "1      0       0     0  \n",
       "2      0       0     0  \n",
       "3      0       0     0  \n",
       "4      0       0     0  \n",
       "..   ...     ...   ...  \n",
       "995    0       0     1  \n",
       "996    0       0     1  \n",
       "997    0       0     1  \n",
       "998    0       0     1  \n",
       "999    0       0     1  \n",
       "\n",
       "[1000 rows x 17 columns]"
      ]
     },
     "execution_count": 6,
     "metadata": {},
     "output_type": "execute_result"
    }
   ],
   "source": [
    "training_data_df"
   ]
  },
  {
   "cell_type": "code",
   "execution_count": 7,
   "metadata": {},
   "outputs": [
    {
     "data": {
      "text/plain": [
       "0.315"
      ]
     },
     "execution_count": 7,
     "metadata": {},
     "output_type": "execute_result"
    }
   ],
   "source": [
    "y = training_data_df[['blues', 'classical', 'country', 'disco', 'hiphop', 'jazz', 'metal', 'pop', 'reggae', 'rock']]\n",
    "X = training_data_df.drop(['blues', 'classical', 'country', 'disco', 'hiphop', 'jazz', 'metal', 'pop', 'reggae', 'rock'], axis=1)\n",
    "\n",
    "x_train, x_test, y_train, y_test = train_test_split(X, y, test_size=0.2, random_state=100)\n",
    "\n",
    "model = RandomForestClassifier(random_state=13)\n",
    "model.fit(x_train, y_train)\n",
    "\n",
    "y_pred = model.predict(x_test)\n",
    "model.score(x_test, y_test)"
   ]
  },
  {
   "cell_type": "code",
   "execution_count": 8,
   "metadata": {},
   "outputs": [
    {
     "data": {
      "text/plain": [
       "array([[15,  0,  0,  0,  0,  2,  0,  0,  0,  0],\n",
       "       [ 8, 19,  0,  0,  0,  0,  0,  0,  0,  0],\n",
       "       [16,  0,  2,  0,  0,  3,  0,  1,  0,  0],\n",
       "       [14,  0,  0,  2,  0,  0,  1,  1,  0,  1],\n",
       "       [16,  0,  0,  0,  5,  0,  0,  0,  0,  0],\n",
       "       [15,  0,  0,  0,  0,  5,  0,  0,  0,  0],\n",
       "       [10,  0,  0,  0,  0,  0, 11,  0,  0,  0],\n",
       "       [ 8,  0,  0,  0,  0,  0,  0,  9,  0,  0],\n",
       "       [13,  0,  0,  1,  0,  1,  0,  0,  6,  0],\n",
       "       [14,  0,  0,  0,  0,  0,  0,  0,  0,  1]])"
      ]
     },
     "execution_count": 8,
     "metadata": {},
     "output_type": "execute_result"
    }
   ],
   "source": [
    "cm = confusion_matrix(y_test.values.argmax(axis=1), y_pred.argmax(axis=1))\n",
    "cm"
   ]
  },
  {
   "cell_type": "code",
   "execution_count": 9,
   "metadata": {},
   "outputs": [
    {
     "data": {
      "text/plain": [
       "Text(160.0, 0.5, 'Actual genres ')"
      ]
     },
     "execution_count": 9,
     "metadata": {},
     "output_type": "execute_result"
    },
    {
     "data": {
      "image/png": "[encoded data removed]",
      "text/plain": [
       "<Figure size 1440x1440 with 2 Axes>"
      ]
     },
     "metadata": {
      "needs_background": "light"
     },
     "output_type": "display_data"
    }
   ],
   "source": [
    "fig, ax = plt.subplots(figsize=(20,20))         # Sample figsize in inches\n",
    "sns.set(font_scale=1.4)\n",
    "sns.heatmap(cm, annot=True, linewidths=.5, ax=ax, center=True)\n",
    "ax.set_yticklabels(all_genres, rotation=0)\n",
    "ax.set_xticklabels(all_genres)\n",
    "plt.xlabel('Predicted genres ')\n",
    "plt.ylabel('Actual genres ')"
   ]
  },
  {
   "cell_type": "code",
   "execution_count": 10,
   "metadata": {},
   "outputs": [
    {
     "data": {
      "text/plain": [
       "mean_chroma_stft    0.181596\n",
       "mean_mfccs          0.157715\n",
       "contrast            0.157586\n",
       "zero_crossing       0.150140\n",
       "flatness            0.149045\n",
       "pulse               0.112666\n",
       "tempo               0.091252\n",
       "dtype: float64"
      ]
     },
     "execution_count": 10,
     "metadata": {},
     "output_type": "execute_result"
    }
   ],
   "source": [
    "feature_imp = pd.Series(model.feature_importances_,index=['mean_mfccs', 'mean_chroma_stft', 'tempo', 'pulse', 'flatness', 'contrast', 'zero_crossing']).sort_values(ascending=False)\n",
    "feature_imp"
   ]
  },
  {
   "cell_type": "code",
   "execution_count": 11,
   "metadata": {},
   "outputs": [
    {
     "name": "stderr",
     "output_type": "stream",
     "text": [
      "No handles with labels found to put in legend.\n"
     ]
    },
    {
     "data": {
      "image/png": "[encoded data removed]",
      "text/plain": [
       "<Figure size 432x288 with 1 Axes>"
      ]
     },
     "metadata": {},
     "output_type": "display_data"
    }
   ],
   "source": [
    "# Creating a bar plot\n",
    "sns.barplot(x=feature_imp, y=feature_imp.index)\n",
    "# Add labels to your graph\n",
    "plt.xlabel('Feature Importance Score')\n",
    "plt.ylabel('Features')\n",
    "plt.title(\"Visualizing Important Features\")\n",
    "plt.legend()\n",
    "plt.show()"
   ]
  },
  {
   "cell_type": "markdown",
   "metadata": {},
   "source": [
    "<h1>4 genres<h1/>"
   ]
  },
  {
   "cell_type": "code",
   "execution_count": 12,
   "metadata": {},
   "outputs": [],
   "source": [
    "def data_set_select_genre_binary(df, selected_genres):\n",
    "    data = df.copy()\n",
    "    all_genres = 'blues classical country disco hiphop jazz metal pop reggae rock'.split()\n",
    "    for genre in all_genres:\n",
    "        if (genre not in selected_genres):\n",
    "            data = data.drop(data[data[genre] == 1].index)\n",
    "            data = data.drop([genre], axis = 1)\n",
    "    return data"
   ]
  },
  {
   "cell_type": "code",
   "execution_count": 28,
   "metadata": {},
   "outputs": [],
   "source": [
    "few_genres = ['blues', 'classical', 'metal', 'pop']"
   ]
  },
  {
   "cell_type": "code",
   "execution_count": 29,
   "metadata": {},
   "outputs": [
    {
     "data": {
      "text/html": [
       "<div>\n",
       "<style scoped>\n",
       "    .dataframe tbody tr th:only-of-type {\n",
       "        vertical-align: middle;\n",
       "    }\n",
       "\n",
       "    .dataframe tbody tr th {\n",
       "        vertical-align: top;\n",
       "    }\n",
       "\n",
       "    .dataframe thead th {\n",
       "        text-align: right;\n",
       "    }\n",
       "</style>\n",
       "<table border=\"1\" class=\"dataframe\">\n",
       "  <thead>\n",
       "    <tr style=\"text-align: right;\">\n",
       "      <th></th>\n",
       "      <th>mean_mfccs</th>\n",
       "      <th>mean_chroma_stft</th>\n",
       "      <th>tempo</th>\n",
       "      <th>pulse</th>\n",
       "      <th>flatness</th>\n",
       "      <th>contrast</th>\n",
       "      <th>zero_crossing</th>\n",
       "      <th>blues</th>\n",
       "      <th>classical</th>\n",
       "      <th>metal</th>\n",
       "      <th>pop</th>\n",
       "    </tr>\n",
       "  </thead>\n",
       "  <tbody>\n",
       "    <tr>\n",
       "      <td>0</td>\n",
       "      <td>0.501593</td>\n",
       "      <td>-0.214654</td>\n",
       "      <td>0.058430</td>\n",
       "      <td>1.423790</td>\n",
       "      <td>0.004498</td>\n",
       "      <td>-0.115005</td>\n",
       "      <td>-0.576237</td>\n",
       "      <td>1</td>\n",
       "      <td>0</td>\n",
       "      <td>0</td>\n",
       "      <td>0</td>\n",
       "    </tr>\n",
       "    <tr>\n",
       "      <td>1</td>\n",
       "      <td>0.198813</td>\n",
       "      <td>-0.311326</td>\n",
       "      <td>-0.698481</td>\n",
       "      <td>1.286785</td>\n",
       "      <td>0.002298</td>\n",
       "      <td>-0.047532</td>\n",
       "      <td>-1.166290</td>\n",
       "      <td>1</td>\n",
       "      <td>0</td>\n",
       "      <td>0</td>\n",
       "      <td>0</td>\n",
       "    </tr>\n",
       "    <tr>\n",
       "      <td>2</td>\n",
       "      <td>0.364322</td>\n",
       "      <td>-0.071886</td>\n",
       "      <td>1.950706</td>\n",
       "      <td>1.184148</td>\n",
       "      <td>0.002631</td>\n",
       "      <td>0.639436</td>\n",
       "      <td>-0.723586</td>\n",
       "      <td>1</td>\n",
       "      <td>0</td>\n",
       "      <td>0</td>\n",
       "      <td>0</td>\n",
       "    </tr>\n",
       "    <tr>\n",
       "      <td>3</td>\n",
       "      <td>0.218095</td>\n",
       "      <td>0.361688</td>\n",
       "      <td>2.480544</td>\n",
       "      <td>1.074349</td>\n",
       "      <td>0.000954</td>\n",
       "      <td>0.291187</td>\n",
       "      <td>-1.663013</td>\n",
       "      <td>1</td>\n",
       "      <td>0</td>\n",
       "      <td>0</td>\n",
       "      <td>0</td>\n",
       "    </tr>\n",
       "    <tr>\n",
       "      <td>4</td>\n",
       "      <td>-1.077418</td>\n",
       "      <td>-0.652596</td>\n",
       "      <td>0.695828</td>\n",
       "      <td>-0.054539</td>\n",
       "      <td>0.003238</td>\n",
       "      <td>0.309280</td>\n",
       "      <td>-0.174097</td>\n",
       "      <td>1</td>\n",
       "      <td>0</td>\n",
       "      <td>0</td>\n",
       "      <td>0</td>\n",
       "    </tr>\n",
       "    <tr>\n",
       "      <td>...</td>\n",
       "      <td>...</td>\n",
       "      <td>...</td>\n",
       "      <td>...</td>\n",
       "      <td>...</td>\n",
       "      <td>...</td>\n",
       "      <td>...</td>\n",
       "      <td>...</td>\n",
       "      <td>...</td>\n",
       "      <td>...</td>\n",
       "      <td>...</td>\n",
       "      <td>...</td>\n",
       "    </tr>\n",
       "    <tr>\n",
       "      <td>795</td>\n",
       "      <td>0.861547</td>\n",
       "      <td>-0.048221</td>\n",
       "      <td>-0.910416</td>\n",
       "      <td>0.795346</td>\n",
       "      <td>0.037135</td>\n",
       "      <td>-0.921487</td>\n",
       "      <td>-0.065597</td>\n",
       "      <td>0</td>\n",
       "      <td>0</td>\n",
       "      <td>0</td>\n",
       "      <td>1</td>\n",
       "    </tr>\n",
       "    <tr>\n",
       "      <td>796</td>\n",
       "      <td>1.099464</td>\n",
       "      <td>-0.322016</td>\n",
       "      <td>-1.455392</td>\n",
       "      <td>0.919540</td>\n",
       "      <td>0.037984</td>\n",
       "      <td>-0.375578</td>\n",
       "      <td>-0.089902</td>\n",
       "      <td>0</td>\n",
       "      <td>0</td>\n",
       "      <td>0</td>\n",
       "      <td>1</td>\n",
       "    </tr>\n",
       "    <tr>\n",
       "      <td>797</td>\n",
       "      <td>0.506041</td>\n",
       "      <td>1.016942</td>\n",
       "      <td>-1.106048</td>\n",
       "      <td>1.233413</td>\n",
       "      <td>0.063447</td>\n",
       "      <td>-1.467287</td>\n",
       "      <td>0.605945</td>\n",
       "      <td>0</td>\n",
       "      <td>0</td>\n",
       "      <td>0</td>\n",
       "      <td>1</td>\n",
       "    </tr>\n",
       "    <tr>\n",
       "      <td>798</td>\n",
       "      <td>0.763106</td>\n",
       "      <td>0.308399</td>\n",
       "      <td>-0.216811</td>\n",
       "      <td>0.715287</td>\n",
       "      <td>0.099239</td>\n",
       "      <td>-1.257653</td>\n",
       "      <td>1.607603</td>\n",
       "      <td>0</td>\n",
       "      <td>0</td>\n",
       "      <td>0</td>\n",
       "      <td>1</td>\n",
       "    </tr>\n",
       "    <tr>\n",
       "      <td>799</td>\n",
       "      <td>0.571005</td>\n",
       "      <td>-0.106130</td>\n",
       "      <td>1.950706</td>\n",
       "      <td>0.668724</td>\n",
       "      <td>0.030030</td>\n",
       "      <td>-0.754964</td>\n",
       "      <td>-0.294040</td>\n",
       "      <td>0</td>\n",
       "      <td>0</td>\n",
       "      <td>0</td>\n",
       "      <td>1</td>\n",
       "    </tr>\n",
       "  </tbody>\n",
       "</table>\n",
       "<p>400 rows × 11 columns</p>\n",
       "</div>"
      ],
      "text/plain": [
       "     mean_mfccs  mean_chroma_stft     tempo     pulse  flatness  contrast  \\\n",
       "0      0.501593         -0.214654  0.058430  1.423790  0.004498 -0.115005   \n",
       "1      0.198813         -0.311326 -0.698481  1.286785  0.002298 -0.047532   \n",
       "2      0.364322         -0.071886  1.950706  1.184148  0.002631  0.639436   \n",
       "3      0.218095          0.361688  2.480544  1.074349  0.000954  0.291187   \n",
       "4     -1.077418         -0.652596  0.695828 -0.054539  0.003238  0.309280   \n",
       "..          ...               ...       ...       ...       ...       ...   \n",
       "795    0.861547         -0.048221 -0.910416  0.795346  0.037135 -0.921487   \n",
       "796    1.099464         -0.322016 -1.455392  0.919540  0.037984 -0.375578   \n",
       "797    0.506041          1.016942 -1.106048  1.233413  0.063447 -1.467287   \n",
       "798    0.763106          0.308399 -0.216811  0.715287  0.099239 -1.257653   \n",
       "799    0.571005         -0.106130  1.950706  0.668724  0.030030 -0.754964   \n",
       "\n",
       "     zero_crossing  blues  classical  metal  pop  \n",
       "0        -0.576237      1          0      0    0  \n",
       "1        -1.166290      1          0      0    0  \n",
       "2        -0.723586      1          0      0    0  \n",
       "3        -1.663013      1          0      0    0  \n",
       "4        -0.174097      1          0      0    0  \n",
       "..             ...    ...        ...    ...  ...  \n",
       "795      -0.065597      0          0      0    1  \n",
       "796      -0.089902      0          0      0    1  \n",
       "797       0.605945      0          0      0    1  \n",
       "798       1.607603      0          0      0    1  \n",
       "799      -0.294040      0          0      0    1  \n",
       "\n",
       "[400 rows x 11 columns]"
      ]
     },
     "execution_count": 29,
     "metadata": {},
     "output_type": "execute_result"
    }
   ],
   "source": [
    "training_data_df = pd.read_csv('../csv_files/Music_data_set_binary.csv').drop(['Unnamed: 0'], axis=1)\n",
    "\n",
    "training_data_2_genres_df = data_set_select_genre_binary(training_data_df, few_genres)\n",
    "\n",
    "sc = StandardScaler()\n",
    "\n",
    "training_data_2_genres_df[['mean_mfccs', 'mean_chroma_stft', 'tempo', 'pulse', 'contrast', 'zero_crossing']] = sc.fit_transform(training_data_2_genres_df[['mean_mfccs', 'mean_chroma_stft', 'tempo', 'pulse', 'contrast', 'zero_crossing']])\n",
    "training_data_2_genres_df"
   ]
  },
  {
   "cell_type": "code",
   "execution_count": 30,
   "metadata": {},
   "outputs": [
    {
     "name": "stderr",
     "output_type": "stream",
     "text": [
      "/Applications/anaconda3/lib/python3.7/site-packages/sklearn/ensemble/forest.py:245: FutureWarning: The default value of n_estimators will change from 10 in version 0.20 to 100 in 0.22.\n",
      "  \"10 in version 0.20 to 100 in 0.22.\", FutureWarning)\n"
     ]
    },
    {
     "data": {
      "text/plain": [
       "0.9125"
      ]
     },
     "execution_count": 30,
     "metadata": {},
     "output_type": "execute_result"
    }
   ],
   "source": [
    "y = training_data_2_genres_df[few_genres]\n",
    "X = training_data_2_genres_df.drop(few_genres, axis=1)\n",
    "\n",
    "x_train, x_test, y_train, y_test = train_test_split(X,y, test_size= 0.20, random_state=42)\n",
    "\n",
    "model = RandomForestClassifier(random_state=13)\n",
    "model.fit(x_train, y_train)\n",
    "\n",
    "y_pred = model.predict(x_test)\n",
    "model.score(x_test, y_test)"
   ]
  },
  {
   "cell_type": "code",
   "execution_count": 31,
   "metadata": {},
   "outputs": [
    {
     "data": {
      "text/plain": [
       "array([[23,  2,  1,  0],\n",
       "       [ 0, 17,  0,  1],\n",
       "       [ 1,  0, 16,  1],\n",
       "       [ 0,  0,  0, 18]])"
      ]
     },
     "execution_count": 31,
     "metadata": {},
     "output_type": "execute_result"
    }
   ],
   "source": [
    "cm = confusion_matrix(y_test.values.argmax(axis=1), y_pred.argmax(axis=1))\n",
    "cm"
   ]
  },
  {
   "cell_type": "code",
   "execution_count": 32,
   "metadata": {},
   "outputs": [
    {
     "data": {
      "text/plain": [
       "Text(152.5, 0.5, 'Actual genres ')"
      ]
     },
     "execution_count": 32,
     "metadata": {},
     "output_type": "execute_result"
    },
    {
     "data": {
      "image/png": "[encoded data removed]",
      "text/plain": [
       "<Figure size 1440x1440 with 2 Axes>"
      ]
     },
     "metadata": {},
     "output_type": "display_data"
    }
   ],
   "source": [
    "fig, ax = plt.subplots(figsize=(20,20))         # Sample figsize in inches\n",
    "sns.set(font_scale=1.4)\n",
    "sns.heatmap(cm, annot=True, linewidths=.5, ax=ax, center=True)\n",
    "ax.set_yticklabels(few_genres, rotation=0)\n",
    "ax.set_xticklabels(few_genres)\n",
    "plt.xlabel('Predicted genres ')\n",
    "plt.ylabel('Actual genres ')\n"
   ]
  },
  {
   "cell_type": "code",
   "execution_count": null,
   "metadata": {},
   "outputs": [],
   "source": []
  }
 ],
 "metadata": {
  "kernelspec": {
   "display_name": "Python 3",
   "language": "python",
   "name": "python3"
  },
  "language_info": {
   "codemirror_mode": {
    "name": "ipython",
    "version": 3
   },
   "file_extension": ".py",
   "mimetype": "text/x-python",
   "name": "python",
   "nbconvert_exporter": "python",
   "pygments_lexer": "ipython3",
   "version": "3.7.4"
  }
 },
 "nbformat": 4,
 "nbformat_minor": 2
}
